{
 "cells": [
  {
   "cell_type": "markdown",
   "metadata": {},
   "source": [
    "### ĐỒ ÁN MẠNG XÃ HỘI\n"
   ]
  },
  {
   "cell_type": "markdown",
   "metadata": {},
   "source": [
    "Import thư viện"
   ]
  },
  {
   "cell_type": "code",
   "execution_count": 2,
   "metadata": {},
   "outputs": [],
   "source": [
    "# Network library\n",
    "import networkx as nx\n",
    "# Data libraries\n",
    "import pandas as pd\n",
    "import numpy as np\n",
    "# Plotting libraries\n",
    "import plotly.graph_objects as go\n",
    "from pandas.core.frame import DataFrame\n",
    "import matplotlib.pyplot as plt\n",
    "from pyvis import network as net"
   ]
  },
  {
   "cell_type": "markdown",
   "metadata": {},
   "source": [
    "Load dữ liệu Wiki-Vote lên Project "
   ]
  },
  {
   "cell_type": "code",
   "execution_count": 3,
   "metadata": {},
   "outputs": [
    {
     "data": {
      "text/html": [
       "<div>\n",
       "<style scoped>\n",
       "    .dataframe tbody tr th:only-of-type {\n",
       "        vertical-align: middle;\n",
       "    }\n",
       "\n",
       "    .dataframe tbody tr th {\n",
       "        vertical-align: top;\n",
       "    }\n",
       "\n",
       "    .dataframe thead th {\n",
       "        text-align: right;\n",
       "    }\n",
       "</style>\n",
       "<table border=\"1\" class=\"dataframe\">\n",
       "  <thead>\n",
       "    <tr style=\"text-align: right;\">\n",
       "      <th></th>\n",
       "      <th>FromNodeId</th>\n",
       "      <th>ToNodeId</th>\n",
       "    </tr>\n",
       "  </thead>\n",
       "  <tbody>\n",
       "    <tr>\n",
       "      <th>0</th>\n",
       "      <td>30</td>\n",
       "      <td>1412</td>\n",
       "    </tr>\n",
       "    <tr>\n",
       "      <th>1</th>\n",
       "      <td>30</td>\n",
       "      <td>3352</td>\n",
       "    </tr>\n",
       "    <tr>\n",
       "      <th>2</th>\n",
       "      <td>30</td>\n",
       "      <td>5254</td>\n",
       "    </tr>\n",
       "    <tr>\n",
       "      <th>3</th>\n",
       "      <td>30</td>\n",
       "      <td>5543</td>\n",
       "    </tr>\n",
       "    <tr>\n",
       "      <th>4</th>\n",
       "      <td>30</td>\n",
       "      <td>7478</td>\n",
       "    </tr>\n",
       "    <tr>\n",
       "      <th>...</th>\n",
       "      <td>...</td>\n",
       "      <td>...</td>\n",
       "    </tr>\n",
       "    <tr>\n",
       "      <th>103684</th>\n",
       "      <td>8272</td>\n",
       "      <td>4940</td>\n",
       "    </tr>\n",
       "    <tr>\n",
       "      <th>103685</th>\n",
       "      <td>8273</td>\n",
       "      <td>4940</td>\n",
       "    </tr>\n",
       "    <tr>\n",
       "      <th>103686</th>\n",
       "      <td>8150</td>\n",
       "      <td>8275</td>\n",
       "    </tr>\n",
       "    <tr>\n",
       "      <th>103687</th>\n",
       "      <td>8150</td>\n",
       "      <td>8276</td>\n",
       "    </tr>\n",
       "    <tr>\n",
       "      <th>103688</th>\n",
       "      <td>8274</td>\n",
       "      <td>8275</td>\n",
       "    </tr>\n",
       "  </tbody>\n",
       "</table>\n",
       "<p>103689 rows × 2 columns</p>\n",
       "</div>"
      ],
      "text/plain": [
       "        FromNodeId  ToNodeId\n",
       "0               30      1412\n",
       "1               30      3352\n",
       "2               30      5254\n",
       "3               30      5543\n",
       "4               30      7478\n",
       "...            ...       ...\n",
       "103684        8272      4940\n",
       "103685        8273      4940\n",
       "103686        8150      8275\n",
       "103687        8150      8276\n",
       "103688        8274      8275\n",
       "\n",
       "[103689 rows x 2 columns]"
      ]
     },
     "execution_count": 3,
     "metadata": {},
     "output_type": "execute_result"
    }
   ],
   "source": [
    "wiki_vote = pd.read_csv('Wiki-Vote.csv');\n",
    "wiki_vote"
   ]
  },
  {
   "cell_type": "markdown",
   "metadata": {},
   "source": [
    "#### MÔ TẢ DỮ LIỆU\n",
    "Wikipedia là 1 cuốn bách khoa toàn thư miễn phí được viết bởi các tình nguyện viên trên khắp thế giới. Một phần của Wikipedia là quản trị viên, có quyền truy cập vào các tính năng bảo mật. Và để 1 người dùng có thể trở thành quản trị viên, cộng đồng Wikipedia sẽ mở ra một cuộc bỏ phiếu để xem người dùng có thể trở thành quản trị viên hay không. Và tập dữ liệu Wiki-Vote chứa thông tin bao gồm 2794 cuộc bầu cử, 103663 tổng số phiếu và 7066 người dùng tham gia cuộc bầu cử(người dùng bỏ phiếu hoặc được bỏ phiếu).\n",
    "Dữ liệu bỏ phiếu được thu thập từ khi bắt đầu Wikipedia cho đến tháng 1 năm 2008"
   ]
  },
  {
   "cell_type": "code",
   "execution_count": 4,
   "metadata": {},
   "outputs": [
    {
     "data": {
      "text/html": [
       "<div>\n",
       "<style scoped>\n",
       "    .dataframe tbody tr th:only-of-type {\n",
       "        vertical-align: middle;\n",
       "    }\n",
       "\n",
       "    .dataframe tbody tr th {\n",
       "        vertical-align: top;\n",
       "    }\n",
       "\n",
       "    .dataframe thead th {\n",
       "        text-align: right;\n",
       "    }\n",
       "</style>\n",
       "<table border=\"1\" class=\"dataframe\">\n",
       "  <thead>\n",
       "    <tr style=\"text-align: right;\">\n",
       "      <th></th>\n",
       "      <th>FromNodeId</th>\n",
       "      <th>ToNodeId</th>\n",
       "    </tr>\n",
       "  </thead>\n",
       "  <tbody>\n",
       "    <tr>\n",
       "      <th>count</th>\n",
       "      <td>103689.000000</td>\n",
       "      <td>103689.000000</td>\n",
       "    </tr>\n",
       "    <tr>\n",
       "      <th>mean</th>\n",
       "      <td>2897.534792</td>\n",
       "      <td>3580.347018</td>\n",
       "    </tr>\n",
       "    <tr>\n",
       "      <th>std</th>\n",
       "      <td>2114.756932</td>\n",
       "      <td>2204.045658</td>\n",
       "    </tr>\n",
       "    <tr>\n",
       "      <th>min</th>\n",
       "      <td>3.000000</td>\n",
       "      <td>3.000000</td>\n",
       "    </tr>\n",
       "    <tr>\n",
       "      <th>25%</th>\n",
       "      <td>1102.000000</td>\n",
       "      <td>1746.000000</td>\n",
       "    </tr>\n",
       "    <tr>\n",
       "      <th>50%</th>\n",
       "      <td>2585.000000</td>\n",
       "      <td>3260.000000</td>\n",
       "    </tr>\n",
       "    <tr>\n",
       "      <th>75%</th>\n",
       "      <td>4442.000000</td>\n",
       "      <td>5301.000000</td>\n",
       "    </tr>\n",
       "    <tr>\n",
       "      <th>max</th>\n",
       "      <td>8274.000000</td>\n",
       "      <td>8297.000000</td>\n",
       "    </tr>\n",
       "  </tbody>\n",
       "</table>\n",
       "</div>"
      ],
      "text/plain": [
       "          FromNodeId       ToNodeId\n",
       "count  103689.000000  103689.000000\n",
       "mean     2897.534792    3580.347018\n",
       "std      2114.756932    2204.045658\n",
       "min         3.000000       3.000000\n",
       "25%      1102.000000    1746.000000\n",
       "50%      2585.000000    3260.000000\n",
       "75%      4442.000000    5301.000000\n",
       "max      8274.000000    8297.000000"
      ]
     },
     "execution_count": 4,
     "metadata": {},
     "output_type": "execute_result"
    }
   ],
   "source": [
    "#Dữ liệu là đồ thị có hướng\n",
    "wiki_vote.describe()"
   ]
  },
  {
   "cell_type": "code",
   "execution_count": 7,
   "metadata": {},
   "outputs": [
    {
     "name": "stdout",
     "output_type": "stream",
     "text": [
      "DiGraph with 7115 nodes and 103689 edges\n"
     ]
    }
   ],
   "source": [
    "#Kiểm tra số nodes và edges của đồ thị có hướng\n",
    "wiki_edge_node_list = nx.from_pandas_edgelist(wiki_vote, 'FromNodeId', 'ToNodeId',create_using=nx.DiGraph())\n",
    "n_nodes=wiki_edge_node_list.number_of_nodes()\n",
    "n_edges=wiki_edge_node_list.number_of_edges()\n",
    "print(wiki_edge_node_list)"
   ]
  },
  {
   "cell_type": "code",
   "execution_count": null,
   "metadata": {},
   "outputs": [],
   "source": []
  }
 ],
 "metadata": {
  "kernelspec": {
   "display_name": "Python 3.11.0 64-bit",
   "language": "python",
   "name": "python3"
  },
  "language_info": {
   "codemirror_mode": {
    "name": "ipython",
    "version": 3
   },
   "file_extension": ".py",
   "mimetype": "text/x-python",
   "name": "python",
   "nbconvert_exporter": "python",
   "pygments_lexer": "ipython3",
   "version": "3.11.0"
  },
  "orig_nbformat": 4,
  "vscode": {
   "interpreter": {
    "hash": "78a254e2ce927e783f91c6989ba5d5a3d808d8b9b76f6f8444b3a21bd359465b"
   }
  }
 },
 "nbformat": 4,
 "nbformat_minor": 2
}
